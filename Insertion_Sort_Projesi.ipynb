{
  "nbformat": 4,
  "nbformat_minor": 0,
  "metadata": {
    "colab": {
      "provenance": []
    },
    "kernelspec": {
      "name": "python3",
      "display_name": "Python 3"
    },
    "language_info": {
      "name": "python"
    }
  },
  "cells": [
    {
      "cell_type": "markdown",
      "source": [
        "**[22,27,16,2,18,6]**"
      ],
      "metadata": {
        "id": "AZ5lZLO43B8r"
      }
    },
    {
      "cell_type": "markdown",
      "source": [
        "1-Yukarı verilen dizinin sort türüne göre aşamalarını yazınız."
      ],
      "metadata": {
        "id": "eSUumUn03Q1e"
      }
    },
    {
      "cell_type": "markdown",
      "source": [
        "- **[2,27,16,22,18,6]**\n",
        "- **[2,6,16,22,18,27]**\n",
        "- **[2,6,16,18,22,27]**\n",
        "\n"
      ],
      "metadata": {
        "id": "j3beFePE3Vzy"
      }
    },
    {
      "cell_type": "markdown",
      "source": [
        "2- Big-O gösterimini yazınız."
      ],
      "metadata": {
        "id": "TSkHxBS04_-n"
      }
    },
    {
      "cell_type": "markdown",
      "source": [
        "**O(n^2)**\n",
        "\n"
      ],
      "metadata": {
        "id": "jG8hLGao5KV_"
      }
    },
    {
      "cell_type": "markdown",
      "source": [
        "3- Time Complexity: Average case: Aradığımız sayının ortada olması,Worst case: Aradığımız sayının sonda olması, Best case: Aradığımız sayının dizinin en başında olması."
      ],
      "metadata": {
        "id": "CMbD69br5xu3"
      }
    },
    {
      "cell_type": "markdown",
      "source": [
        "4- Dizi sıralandıktan sonra 18 sayısı hangi case kapsamına girer? Yazınız."
      ],
      "metadata": {
        "id": "0BLdy1WA6b35"
      }
    },
    {
      "cell_type": "markdown",
      "source": [
        "**Dizi sıralandıktan sonra 18 sayısının ortada olması Average case kapsamına girer**"
      ],
      "metadata": {
        "id": "62BUIJK16eKm"
      }
    },
    {
      "cell_type": "markdown",
      "source": [
        "[7,3,5,8,2,9,4,15,6] dizisinin Insertion Sort'a göre ilk 4 adımını yazınız."
      ],
      "metadata": {
        "id": "wN8jRL5h66v0"
      }
    },
    {
      "cell_type": "markdown",
      "source": [
        "- **[2,3,5,8,7,9,4,15,6]**\n",
        "- **[2,3,4,8,7,9,5,15,6]**\n",
        "- **[2,3,4,5,7,9,8,15,6]**\n",
        "- **[2,3,4,5,6,9,8,15,7]**"
      ],
      "metadata": {
        "id": "6UT0jWU06_45"
      }
    }
  ]
}