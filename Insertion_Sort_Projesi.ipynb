{
  "cells": [
    {
      "cell_type": "markdown",
      "metadata": {
        "id": "AZ5lZLO43B8r"
      },
      "source": [
        "**[22,27,16,2,18,6]**"
      ]
    },
    {
      "cell_type": "markdown",
      "metadata": {
        "id": "eSUumUn03Q1e"
      },
      "source": [
        "1-Yukarı verilen dizinin sort türüne göre aşamalarını yazınız."
      ]
    },
    {
      "cell_type": "markdown",
      "metadata": {
        "id": "j3beFePE3Vzy"
      },
      "source": [
        "- **[2,27,16,22,18,6]**\n",
        "- **[2,6,16,22,18,27]**\n",
        "- **[2,6,16,18,22,27]**\n",
        "\n"
      ]
    },
    {
      "cell_type": "markdown",
      "metadata": {
        "id": "TSkHxBS04_-n"
      },
      "source": [
        "2- Big-O gösterimini yazınız."
      ]
    },
    {
      "cell_type": "markdown",
      "metadata": {
        "id": "jG8hLGao5KV_"
      },
      "source": [
        "**O(n^2)**\n",
        "\n"
      ]
    },
    {
      "cell_type": "markdown",
      "metadata": {
        "id": "CMbD69br5xu3"
      },
      "source": [
        "3- Time Complexity: Average case: Aradığımız sayının ortada olması,Worst case: Aradığımız sayının sonda olması, Best case: Aradığımız sayının dizinin en başında olması."
      ]
    },
    {
      "cell_type": "markdown",
      "metadata": {
        "id": "0BLdy1WA6b35"
      },
      "source": [
        "4- Dizi sıralandıktan sonra 18 sayısı hangi case kapsamına girer? Yazınız."
      ]
    },
    {
      "cell_type": "markdown",
      "metadata": {
        "id": "62BUIJK16eKm"
      },
      "source": [
        "**Dizi sıralandıktan sonra 18 sayısının ortada olması Average case kapsamına girer**"
      ]
    },
    {
      "cell_type": "markdown",
      "metadata": {
        "id": "wN8jRL5h66v0"
      },
      "source": [
        "[7,3,5,8,2,9,4,15,6] dizisinin Insertion Sort'a göre ilk 4 adımını yazınız."
      ]
    },
    {
      "cell_type": "markdown",
      "metadata": {
        "id": "6UT0jWU06_45"
      },
      "source": [
        "- **[2,3,5,8,7,9,4,15,6]**\n",
        "- **[2,3,4,8,7,9,5,15,6]**\n",
        "- **[2,3,4,5,7,9,8,15,6]**\n",
        "- **[2,3,4,5,6,9,8,15,7]**"
      ]
    }
  ],
  "metadata": {
    "colab": {
      "provenance": []
    },
    "kernelspec": {
      "display_name": "Python 3.10.7 64-bit",
      "language": "python",
      "name": "python3"
    },
    "language_info": {
      "name": "python",
      "version": "3.10.7"
    },
    "vscode": {
      "interpreter": {
        "hash": "aee8b7b246df8f9039afb4144a1f6fd8d2ca17a180786b69acc140d282b71a49"
      }
    }
  },
  "nbformat": 4,
  "nbformat_minor": 0
}
