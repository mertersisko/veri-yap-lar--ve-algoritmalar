{
  "nbformat": 4,
  "nbformat_minor": 0,
  "metadata": {
    "colab": {
      "provenance": []
    },
    "kernelspec": {
      "name": "python3",
      "display_name": "Python 3"
    },
    "language_info": {
      "name": "python"
    }
  },
  "cells": [
    {
      "cell_type": "markdown",
      "source": [
        "**Proje 2**"
      ],
      "metadata": {
        "id": "gYak8MeI-vOT"
      }
    },
    {
      "cell_type": "markdown",
      "source": [
        "[16,21,11,8,12,22]"
      ],
      "metadata": {
        "id": "D_g41bHy-yJa"
      }
    },
    {
      "cell_type": "markdown",
      "source": [
        "Yukarıdaki dizinin sort türüne göre aşamalarını yazınız."
      ],
      "metadata": {
        "id": "ypkMQ6_e-1Zx"
      }
    },
    {
      "cell_type": "markdown",
      "source": [
        "- **[16,21,11,8,12,22]**\n",
        "- **[16,21,11] - [8,12,22]**\n",
        "- **[16] - [21,11] - [8] - [12,22]**\n",
        "- **[16] - [21] - [11] - [8] - [12] - [22]**\n",
        "- **[16] - [11,21] - [8] - [12,22]**\n",
        "- **[11,16,21] - [8,12,22]**\n",
        "- **[8,11,12,16,21,22]**\n",
        "\n"
      ],
      "metadata": {
        "id": "-qzOl6tu-6kc"
      }
    },
    {
      "cell_type": "markdown",
      "source": [
        "Big-O gösterimini yazınız."
      ],
      "metadata": {
        "id": "Z5mAqJ9g-3-X"
      }
    },
    {
      "cell_type": "markdown",
      "source": [
        "**O(nlogn)**"
      ],
      "metadata": {
        "id": "F63fRtjBEOrT"
      }
    }
  ]
}